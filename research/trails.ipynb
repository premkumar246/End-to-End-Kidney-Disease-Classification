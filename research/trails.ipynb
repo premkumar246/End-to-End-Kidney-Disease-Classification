{
 "cells": [
  {
   "cell_type": "markdown",
   "metadata": {},
   "source": [
    "### 01 | Data Collection"
   ]
  },
  {
   "cell_type": "code",
   "execution_count": 5,
   "metadata": {},
   "outputs": [
    {
     "data": {
      "text/plain": [
       "'1LSQGDNqTZZhzL0NquYK9Kh5zY7kzZGIq'"
      ]
     },
     "execution_count": 5,
     "metadata": {},
     "output_type": "execute_result"
    }
   ],
   "source": [
    "# download data from gdrive \n",
    "import gdown\n",
    "data_url = \"https://drive.google.com/file/d/1LSQGDNqTZZhzL0NquYK9Kh5zY7kzZGIq/view?usp=sharing\"\n",
    "url_elements = data_url.split(\"/\")\n",
    "file_id = url_elements[-2]\n",
    "file_id"
   ]
  },
  {
   "cell_type": "code",
   "execution_count": 7,
   "metadata": {},
   "outputs": [
    {
     "name": "stderr",
     "output_type": "stream",
     "text": [
      "Downloading...\n",
      "From (original): https://drive.google.com/uc?/export=download&id=1LSQGDNqTZZhzL0NquYK9Kh5zY7kzZGIq\n",
      "From (redirected): https://drive.google.com/uc?%2Fexport=download&id=1LSQGDNqTZZhzL0NquYK9Kh5zY7kzZGIq&confirm=t&uuid=d19c705a-9afb-4028-b907-eed10a561075\n",
      "To: /home/prem/My_Projects/End-to-End-Kidney-Disease-Classification/research/Kidney_CT_Scan_Data.zip\n",
      "100%|██████████| 1.63G/1.63G [03:02<00:00, 8.92MB/s]\n"
     ]
    },
    {
     "data": {
      "text/plain": [
       "'Kidney_CT_Scan_Data.zip'"
      ]
     },
     "execution_count": 7,
     "metadata": {},
     "output_type": "execute_result"
    }
   ],
   "source": [
    "download_url = f\"https://drive.google.com/uc?/export=download&id={file_id}\" \n",
    "gdown.download(download_url,\"Kidney_CT_Scan_Data.zip\")"
   ]
  },
  {
   "cell_type": "markdown",
   "metadata": {},
   "source": [
    "### 02 | Data Ingestion"
   ]
  },
  {
   "cell_type": "code",
   "execution_count": null,
   "metadata": {},
   "outputs": [],
   "source": []
  }
 ],
 "metadata": {
  "kernelspec": {
   "display_name": "kidney",
   "language": "python",
   "name": "python3"
  },
  "language_info": {
   "codemirror_mode": {
    "name": "ipython",
    "version": 3
   },
   "file_extension": ".py",
   "mimetype": "text/x-python",
   "name": "python",
   "nbconvert_exporter": "python",
   "pygments_lexer": "ipython3",
   "version": "3.10.14"
  }
 },
 "nbformat": 4,
 "nbformat_minor": 2
}
